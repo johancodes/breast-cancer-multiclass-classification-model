{
  "nbformat": 4,
  "nbformat_minor": 0,
  "metadata": {
    "colab": {
      "name": "breast_cancer_model_v4.ipynb",
      "provenance": [],
      "toc_visible": true
    },
    "kernelspec": {
      "name": "python3",
      "display_name": "Python 3"
    },
    "language_info": {
      "name": "python"
    }
  },
  "cells": [
    {
      "cell_type": "markdown",
      "metadata": {
        "id": "Cga9ltmLdaDG"
      },
      "source": [
        "LET'S BUILD A MULTICLASS CLASSIFICATION MODEL "
      ]
    },
    {
      "cell_type": "markdown",
      "metadata": {
        "id": "gIKAZCKwzPPx"
      },
      "source": [
        "# IMPORT LIBRARIES AND PREPROCESS DATA"
      ]
    },
    {
      "cell_type": "code",
      "metadata": {
        "id": "AHBL52cCoDhb"
      },
      "source": [
        "import tensorflow as tf\n",
        "from tensorflow import keras\n",
        "import pandas as pd \n",
        "import numpy as np \n",
        "\n",
        "from sklearn.preprocessing import OrdinalEncoder, OneHotEncoder, MinMaxScaler, LabelEncoder\n",
        "from sklearn.compose import make_column_transformer\n",
        "from sklearn.model_selection import train_test_split  \n"
      ],
      "execution_count": null,
      "outputs": []
    },
    {
      "cell_type": "code",
      "metadata": {
        "id": "Xz5sWyTroPoB",
        "colab": {
          "base_uri": "https://localhost:8080/",
          "height": 105
        },
        "outputId": "85863eb3-e584-4984-c995-a0b5392f424b"
      },
      "source": [
        "'''\n",
        "\n",
        "# get rid of single quote marks in the csv\n",
        "# 'breast' had a space (so I removed all spaces)\n",
        "\n",
        "text = open('/content/drive/MyDrive/Colab Notebooks/breast_cancer_data/breast-cancer-1.csv', \"r\")\n",
        "\n",
        "text = ''.join([i for i in text]).replace(\"'\", \"\").replace(\" \",\"\")\n",
        "\n",
        "x = open(\"/content/drive/MyDrive/Colab Notebooks/breast_cancer_data/breast-cancer-3.csv\",\"w\")\n",
        "x.writelines(text)\n",
        "\n",
        "\n",
        "'''"
      ],
      "execution_count": null,
      "outputs": [
        {
          "output_type": "execute_result",
          "data": {
            "application/vnd.google.colaboratory.intrinsic+json": {
              "type": "string"
            },
            "text/plain": [
              "'\\n\\n# get rid of single quote marks in the csv\\n# \\'breast\\' had a space (so I removed all spaces)\\n\\ntext = open(\\'/content/drive/MyDrive/Colab Notebooks/breast_cancer_data/breast-cancer-1.csv\\', \"r\")\\n\\ntext = \\'\\'.join([i for i in text]).replace(\"\\'\", \"\").replace(\" \",\"\")\\n\\nx = open(\"/content/drive/MyDrive/Colab Notebooks/breast_cancer_data/breast-cancer-3.csv\",\"w\")\\nx.writelines(text)\\n\\n\\n'"
            ]
          },
          "metadata": {},
          "execution_count": 1405
        }
      ]
    },
    {
      "cell_type": "code",
      "metadata": {
        "colab": {
          "base_uri": "https://localhost:8080/",
          "height": 675
        },
        "id": "oU8lf2bvpp5k",
        "outputId": "c40df4dd-1eb7-4147-80ff-dec09eccd1aa"
      },
      "source": [
        "df = pd.read_csv('/content/drive/MyDrive/Colab Notebooks/breast_cancer_data/breast-cancer-3.csv')\n",
        "\n",
        "df.head(10)"
      ],
      "execution_count": null,
      "outputs": [
        {
          "output_type": "execute_result",
          "data": {
            "text/html": [
              "<div>\n",
              "<style scoped>\n",
              "    .dataframe tbody tr th:only-of-type {\n",
              "        vertical-align: middle;\n",
              "    }\n",
              "\n",
              "    .dataframe tbody tr th {\n",
              "        vertical-align: top;\n",
              "    }\n",
              "\n",
              "    .dataframe thead th {\n",
              "        text-align: right;\n",
              "    }\n",
              "</style>\n",
              "<table border=\"1\" class=\"dataframe\">\n",
              "  <thead>\n",
              "    <tr style=\"text-align: right;\">\n",
              "      <th></th>\n",
              "      <th>age</th>\n",
              "      <th>menopause</th>\n",
              "      <th>tumor-size</th>\n",
              "      <th>inv-nodes</th>\n",
              "      <th>node-caps</th>\n",
              "      <th>deg-malig</th>\n",
              "      <th>breast</th>\n",
              "      <th>breast-quad</th>\n",
              "      <th>irradiat</th>\n",
              "      <th>class</th>\n",
              "    </tr>\n",
              "  </thead>\n",
              "  <tbody>\n",
              "    <tr>\n",
              "      <th>0</th>\n",
              "      <td>40-49</td>\n",
              "      <td>premeno</td>\n",
              "      <td>15-19</td>\n",
              "      <td>0-2</td>\n",
              "      <td>yes</td>\n",
              "      <td>3</td>\n",
              "      <td>right</td>\n",
              "      <td>left_up</td>\n",
              "      <td>no</td>\n",
              "      <td>recurrence-events</td>\n",
              "    </tr>\n",
              "    <tr>\n",
              "      <th>1</th>\n",
              "      <td>50-59</td>\n",
              "      <td>ge40</td>\n",
              "      <td>15-19</td>\n",
              "      <td>0-2</td>\n",
              "      <td>no</td>\n",
              "      <td>1</td>\n",
              "      <td>right</td>\n",
              "      <td>central</td>\n",
              "      <td>no</td>\n",
              "      <td>no-recurrence-events</td>\n",
              "    </tr>\n",
              "    <tr>\n",
              "      <th>2</th>\n",
              "      <td>50-59</td>\n",
              "      <td>ge40</td>\n",
              "      <td>35-39</td>\n",
              "      <td>0-2</td>\n",
              "      <td>no</td>\n",
              "      <td>2</td>\n",
              "      <td>left</td>\n",
              "      <td>left_low</td>\n",
              "      <td>no</td>\n",
              "      <td>recurrence-events</td>\n",
              "    </tr>\n",
              "    <tr>\n",
              "      <th>3</th>\n",
              "      <td>40-49</td>\n",
              "      <td>premeno</td>\n",
              "      <td>35-39</td>\n",
              "      <td>0-2</td>\n",
              "      <td>yes</td>\n",
              "      <td>3</td>\n",
              "      <td>right</td>\n",
              "      <td>left_low</td>\n",
              "      <td>yes</td>\n",
              "      <td>no-recurrence-events</td>\n",
              "    </tr>\n",
              "    <tr>\n",
              "      <th>4</th>\n",
              "      <td>40-49</td>\n",
              "      <td>premeno</td>\n",
              "      <td>30-34</td>\n",
              "      <td>3-5</td>\n",
              "      <td>yes</td>\n",
              "      <td>2</td>\n",
              "      <td>left</td>\n",
              "      <td>right_up</td>\n",
              "      <td>no</td>\n",
              "      <td>recurrence-events</td>\n",
              "    </tr>\n",
              "    <tr>\n",
              "      <th>5</th>\n",
              "      <td>50-59</td>\n",
              "      <td>premeno</td>\n",
              "      <td>25-29</td>\n",
              "      <td>3-5</td>\n",
              "      <td>no</td>\n",
              "      <td>2</td>\n",
              "      <td>right</td>\n",
              "      <td>left_up</td>\n",
              "      <td>yes</td>\n",
              "      <td>no-recurrence-events</td>\n",
              "    </tr>\n",
              "    <tr>\n",
              "      <th>6</th>\n",
              "      <td>50-59</td>\n",
              "      <td>ge40</td>\n",
              "      <td>40-44</td>\n",
              "      <td>0-2</td>\n",
              "      <td>no</td>\n",
              "      <td>3</td>\n",
              "      <td>left</td>\n",
              "      <td>left_up</td>\n",
              "      <td>no</td>\n",
              "      <td>no-recurrence-events</td>\n",
              "    </tr>\n",
              "    <tr>\n",
              "      <th>7</th>\n",
              "      <td>40-49</td>\n",
              "      <td>premeno</td>\n",
              "      <td>10-14</td>\n",
              "      <td>0-2</td>\n",
              "      <td>no</td>\n",
              "      <td>2</td>\n",
              "      <td>left</td>\n",
              "      <td>left_up</td>\n",
              "      <td>no</td>\n",
              "      <td>no-recurrence-events</td>\n",
              "    </tr>\n",
              "    <tr>\n",
              "      <th>8</th>\n",
              "      <td>40-49</td>\n",
              "      <td>premeno</td>\n",
              "      <td>0-4</td>\n",
              "      <td>0-2</td>\n",
              "      <td>no</td>\n",
              "      <td>2</td>\n",
              "      <td>right</td>\n",
              "      <td>right_low</td>\n",
              "      <td>no</td>\n",
              "      <td>no-recurrence-events</td>\n",
              "    </tr>\n",
              "    <tr>\n",
              "      <th>9</th>\n",
              "      <td>40-49</td>\n",
              "      <td>ge40</td>\n",
              "      <td>40-44</td>\n",
              "      <td>15-17</td>\n",
              "      <td>yes</td>\n",
              "      <td>2</td>\n",
              "      <td>right</td>\n",
              "      <td>left_up</td>\n",
              "      <td>yes</td>\n",
              "      <td>no-recurrence-events</td>\n",
              "    </tr>\n",
              "  </tbody>\n",
              "</table>\n",
              "</div>"
            ],
            "text/plain": [
              "     age menopause tumor-size  ... breast-quad irradiat                 class\n",
              "0  40-49   premeno      15-19  ...     left_up       no     recurrence-events\n",
              "1  50-59      ge40      15-19  ...     central       no  no-recurrence-events\n",
              "2  50-59      ge40      35-39  ...    left_low       no     recurrence-events\n",
              "3  40-49   premeno      35-39  ...    left_low      yes  no-recurrence-events\n",
              "4  40-49   premeno      30-34  ...    right_up       no     recurrence-events\n",
              "5  50-59   premeno      25-29  ...     left_up      yes  no-recurrence-events\n",
              "6  50-59      ge40      40-44  ...     left_up       no  no-recurrence-events\n",
              "7  40-49   premeno      10-14  ...     left_up       no  no-recurrence-events\n",
              "8  40-49   premeno        0-4  ...   right_low       no  no-recurrence-events\n",
              "9  40-49      ge40      40-44  ...     left_up      yes  no-recurrence-events\n",
              "\n",
              "[10 rows x 10 columns]"
            ]
          },
          "metadata": {},
          "execution_count": 1406
        }
      ]
    },
    {
      "cell_type": "code",
      "metadata": {
        "id": "IeowjvXb0pcm"
      },
      "source": [
        "###\n",
        "###\n",
        "###\n",
        "# I'm going to see if I can help this subpar model (despite that has imbalanced classes) by reducing class imbalance.\n",
        "###\n",
        "###\n",
        "###\n",
        "\n"
      ],
      "execution_count": null,
      "outputs": []
    },
    {
      "cell_type": "code",
      "metadata": {
        "colab": {
          "base_uri": "https://localhost:8080/",
          "height": 417
        },
        "id": "hya0knN61VJ4",
        "outputId": "932c95b0-479d-4e13-cce6-cefb5cacc0b8"
      },
      "source": [
        "# delete rows with NaN in them\n",
        "\n",
        "df = df.dropna()\n",
        "\n",
        "'''\n",
        "See also:\n",
        "DataFrame.isna: Indicate missing values.\n",
        "DataFrame.notna : Indicate existing (non-missing) values.\n",
        "DataFrame.fillna : Replace missing values.\n",
        "Series.dropna : Drop missing values.\n",
        "Index.dropna : Drop missing indices.'''\n",
        "\n",
        "# NaN was in row 20, now row 20 is gone, see...\n",
        "print(df.iloc[19:22])\n",
        "\n",
        "\n",
        "print(df)\n",
        "\n",
        "'''\n",
        "# the other thing we could do is replace NaNs with mean nums... \n",
        "\n",
        "from sklearn.impute import SimpleImputer\n",
        "\n",
        "imputer = SimpleImputer(missing_values=np.nan, strategy='mean')\n",
        "\n",
        "df = imputer.fit_transform(df.values)\n",
        "'''\n"
      ],
      "execution_count": null,
      "outputs": [
        {
          "output_type": "stream",
          "name": "stdout",
          "text": [
            "      age menopause tumor-size  ... breast-quad irradiat                 class\n",
            "19  50-59      ge40      20-24  ...     left_up       no  no-recurrence-events\n",
            "21  60-69      ge40      40-44  ...     left_up      yes  no-recurrence-events\n",
            "22  50-59      ge40      15-19  ...    left_low       no  no-recurrence-events\n",
            "\n",
            "[3 rows x 10 columns]\n",
            "       age menopause tumor-size  ... breast-quad irradiat                 class\n",
            "0    40-49   premeno      15-19  ...     left_up       no     recurrence-events\n",
            "1    50-59      ge40      15-19  ...     central       no  no-recurrence-events\n",
            "2    50-59      ge40      35-39  ...    left_low       no     recurrence-events\n",
            "3    40-49   premeno      35-39  ...    left_low      yes  no-recurrence-events\n",
            "4    40-49   premeno      30-34  ...    right_up       no     recurrence-events\n",
            "..     ...       ...        ...  ...         ...      ...                   ...\n",
            "281  50-59      ge40      30-34  ...    left_low       no  no-recurrence-events\n",
            "282  50-59   premeno      25-29  ...    left_low      yes  no-recurrence-events\n",
            "283  30-39   premeno      30-34  ...    right_up       no  no-recurrence-events\n",
            "284  50-59   premeno      15-19  ...    left_low       no  no-recurrence-events\n",
            "285  50-59      ge40      40-44  ...    right_up       no  no-recurrence-events\n",
            "\n",
            "[277 rows x 10 columns]\n"
          ]
        },
        {
          "output_type": "execute_result",
          "data": {
            "application/vnd.google.colaboratory.intrinsic+json": {
              "type": "string"
            },
            "text/plain": [
              "\"\\n# the other thing we could do is replace NaNs with mean nums... \\n\\nfrom sklearn.impute import SimpleImputer\\n\\nimputer = SimpleImputer(missing_values=np.nan, strategy='mean')\\n\\ndf = imputer.fit_transform(df.values)\\n\""
            ]
          },
          "metadata": {},
          "execution_count": 1408
        }
      ]
    },
    {
      "cell_type": "markdown",
      "metadata": {
        "id": "snr4Sb2mdXy2"
      },
      "source": [
        "## remove_rows function"
      ]
    },
    {
      "cell_type": "code",
      "metadata": {
        "id": "e_pW36SnIcQI"
      },
      "source": [
        "def remove_rows(dataframe_name, col, col_var_to_reduce, target_num_to_remain=0):\n",
        "  '''\n",
        "  col and col_var_to_reduce are strings\n",
        "  '''\n",
        "  print(col, col_var_to_reduce)\n",
        "\n",
        "  get_idxs_of_col_var_to_reduce = dataframe_name.index[ dataframe_name[col]==col_var_to_reduce ].tolist()\n",
        "\n",
        "  get_idxs_of_col_var_to_reduce = np.asarray(get_idxs_of_col_var_to_reduce) # convert list to np array \n",
        "\n",
        "  print(len(get_idxs_of_col_var_to_reduce)) \n",
        "\n",
        "  # get a random sample of unique idxs from get_idxs_of_col_var_to_reduce array\n",
        "\n",
        "  np.random.seed(42) # set random seed for reproducible results\n",
        "\n",
        "  idxs_to_drop_from_df = np.random.choice(get_idxs_of_col_var_to_reduce, size=len(get_idxs_of_col_var_to_reduce)-target_num_to_remain, replace=False)\n",
        "\n",
        "  print(idxs_to_drop_from_df)\n",
        "\n",
        "  # drop these idxs from df\n",
        "\n",
        "  dataframe_name = dataframe_name.drop(idxs_to_drop_from_df, axis=0, inplace=True) # inplace=True mutates ori df\n"
      ],
      "execution_count": null,
      "outputs": []
    },
    {
      "cell_type": "code",
      "metadata": {
        "colab": {
          "base_uri": "https://localhost:8080/"
        },
        "id": "yXAZ-79KotRb",
        "outputId": "65d06b11-e0a3-4ef1-a5a8-cadc844a3586"
      },
      "source": [
        "remove_rows(dataframe_name=df, col='breast-quad', col_var_to_reduce='left_low', target_num_to_remain=20)\n",
        "\n",
        "remove_rows(dataframe_name=df, col='breast-quad', col_var_to_reduce='left_up', target_num_to_remain=20)\n",
        "\n",
        "remove_rows(dataframe_name=df, col='breast-quad', col_var_to_reduce='right_up', target_num_to_remain=20)\n",
        "\n",
        "remove_rows(dataframe_name=df, col='breast-quad', col_var_to_reduce='right_low', target_num_to_remain=20)\n",
        "\n",
        "remove_rows(dataframe_name=df, col='breast-quad', col_var_to_reduce='central', target_num_to_remain=20)\n"
      ],
      "execution_count": null,
      "outputs": [
        {
          "output_type": "stream",
          "name": "stdout",
          "text": [
            "breast-quad left_low\n",
            "106\n",
            "[273  35  22 229 267 191  97 102 256  38 143 133   2 222  63 184 197 226\n",
            " 157 135  40 228 182  80  70 100 137 209  56 220 119 246  34 153 262  88\n",
            " 127  24 282 217 125 111  57 162 106  28 134 192 205  81  66 242 249  76\n",
            " 202 147  42  75  14  60 123  29 269  26 199 281 239 154 148 274 140 208\n",
            " 178 284 235 129 164 145 251 163 212 101 270 169 183 247]\n",
            "breast-quad left_up\n",
            "94\n",
            "[110  55 159 214   0  82 103 193  19 117 236  94 272 175  23   9  47  85\n",
            " 138 181  33 194 224  87  91  21 187 196  89 223  18 201  11 115 126  36\n",
            " 118  93  16 227  83  48 221  68 156  25  64   7  46  99  17 215  13 268\n",
            "  96 259 160 280 158 116 141 219 121 177 174 275 237 112 168 128 233 161\n",
            "  90 260]\n",
            "breast-quad right_up\n",
            "33\n",
            "[283 132 252 155  78  79 179 186 113   4  45 151  53]\n",
            "breast-quad right_low\n",
            "23\n",
            "[210 185   8]\n",
            "breast-quad central\n",
            "21\n",
            "[1]\n"
          ]
        }
      ]
    },
    {
      "cell_type": "code",
      "metadata": {
        "id": "PWZEFDoLotHT",
        "colab": {
          "base_uri": "https://localhost:8080/",
          "height": 788
        },
        "outputId": "c3017de6-8533-4467-f484-4e929d01b638"
      },
      "source": [
        "df\n",
        "\n",
        "# note that now we have a smaller dataset BUT with equal num of class samples"
      ],
      "execution_count": null,
      "outputs": [
        {
          "output_type": "execute_result",
          "data": {
            "text/html": [
              "<div>\n",
              "<style scoped>\n",
              "    .dataframe tbody tr th:only-of-type {\n",
              "        vertical-align: middle;\n",
              "    }\n",
              "\n",
              "    .dataframe tbody tr th {\n",
              "        vertical-align: top;\n",
              "    }\n",
              "\n",
              "    .dataframe thead th {\n",
              "        text-align: right;\n",
              "    }\n",
              "</style>\n",
              "<table border=\"1\" class=\"dataframe\">\n",
              "  <thead>\n",
              "    <tr style=\"text-align: right;\">\n",
              "      <th></th>\n",
              "      <th>age</th>\n",
              "      <th>menopause</th>\n",
              "      <th>tumor-size</th>\n",
              "      <th>inv-nodes</th>\n",
              "      <th>node-caps</th>\n",
              "      <th>deg-malig</th>\n",
              "      <th>breast</th>\n",
              "      <th>breast-quad</th>\n",
              "      <th>irradiat</th>\n",
              "      <th>class</th>\n",
              "    </tr>\n",
              "  </thead>\n",
              "  <tbody>\n",
              "    <tr>\n",
              "      <th>3</th>\n",
              "      <td>40-49</td>\n",
              "      <td>premeno</td>\n",
              "      <td>35-39</td>\n",
              "      <td>0-2</td>\n",
              "      <td>yes</td>\n",
              "      <td>3</td>\n",
              "      <td>right</td>\n",
              "      <td>left_low</td>\n",
              "      <td>yes</td>\n",
              "      <td>no-recurrence-events</td>\n",
              "    </tr>\n",
              "    <tr>\n",
              "      <th>5</th>\n",
              "      <td>50-59</td>\n",
              "      <td>premeno</td>\n",
              "      <td>25-29</td>\n",
              "      <td>3-5</td>\n",
              "      <td>no</td>\n",
              "      <td>2</td>\n",
              "      <td>right</td>\n",
              "      <td>left_up</td>\n",
              "      <td>yes</td>\n",
              "      <td>no-recurrence-events</td>\n",
              "    </tr>\n",
              "    <tr>\n",
              "      <th>6</th>\n",
              "      <td>50-59</td>\n",
              "      <td>ge40</td>\n",
              "      <td>40-44</td>\n",
              "      <td>0-2</td>\n",
              "      <td>no</td>\n",
              "      <td>3</td>\n",
              "      <td>left</td>\n",
              "      <td>left_up</td>\n",
              "      <td>no</td>\n",
              "      <td>no-recurrence-events</td>\n",
              "    </tr>\n",
              "    <tr>\n",
              "      <th>10</th>\n",
              "      <td>50-59</td>\n",
              "      <td>premeno</td>\n",
              "      <td>25-29</td>\n",
              "      <td>0-2</td>\n",
              "      <td>no</td>\n",
              "      <td>2</td>\n",
              "      <td>left</td>\n",
              "      <td>left_low</td>\n",
              "      <td>no</td>\n",
              "      <td>no-recurrence-events</td>\n",
              "    </tr>\n",
              "    <tr>\n",
              "      <th>12</th>\n",
              "      <td>50-59</td>\n",
              "      <td>ge40</td>\n",
              "      <td>30-34</td>\n",
              "      <td>0-2</td>\n",
              "      <td>no</td>\n",
              "      <td>1</td>\n",
              "      <td>right</td>\n",
              "      <td>central</td>\n",
              "      <td>no</td>\n",
              "      <td>no-recurrence-events</td>\n",
              "    </tr>\n",
              "    <tr>\n",
              "      <th>...</th>\n",
              "      <td>...</td>\n",
              "      <td>...</td>\n",
              "      <td>...</td>\n",
              "      <td>...</td>\n",
              "      <td>...</td>\n",
              "      <td>...</td>\n",
              "      <td>...</td>\n",
              "      <td>...</td>\n",
              "      <td>...</td>\n",
              "      <td>...</td>\n",
              "    </tr>\n",
              "    <tr>\n",
              "      <th>276</th>\n",
              "      <td>40-49</td>\n",
              "      <td>premeno</td>\n",
              "      <td>25-29</td>\n",
              "      <td>0-2</td>\n",
              "      <td>no</td>\n",
              "      <td>2</td>\n",
              "      <td>left</td>\n",
              "      <td>left_up</td>\n",
              "      <td>yes</td>\n",
              "      <td>no-recurrence-events</td>\n",
              "    </tr>\n",
              "    <tr>\n",
              "      <th>277</th>\n",
              "      <td>40-49</td>\n",
              "      <td>premeno</td>\n",
              "      <td>35-39</td>\n",
              "      <td>0-2</td>\n",
              "      <td>no</td>\n",
              "      <td>2</td>\n",
              "      <td>right</td>\n",
              "      <td>right_up</td>\n",
              "      <td>no</td>\n",
              "      <td>no-recurrence-events</td>\n",
              "    </tr>\n",
              "    <tr>\n",
              "      <th>278</th>\n",
              "      <td>50-59</td>\n",
              "      <td>premeno</td>\n",
              "      <td>30-34</td>\n",
              "      <td>3-5</td>\n",
              "      <td>yes</td>\n",
              "      <td>2</td>\n",
              "      <td>left</td>\n",
              "      <td>left_low</td>\n",
              "      <td>yes</td>\n",
              "      <td>no-recurrence-events</td>\n",
              "    </tr>\n",
              "    <tr>\n",
              "      <th>279</th>\n",
              "      <td>40-49</td>\n",
              "      <td>premeno</td>\n",
              "      <td>20-24</td>\n",
              "      <td>0-2</td>\n",
              "      <td>no</td>\n",
              "      <td>2</td>\n",
              "      <td>right</td>\n",
              "      <td>right_up</td>\n",
              "      <td>no</td>\n",
              "      <td>no-recurrence-events</td>\n",
              "    </tr>\n",
              "    <tr>\n",
              "      <th>285</th>\n",
              "      <td>50-59</td>\n",
              "      <td>ge40</td>\n",
              "      <td>40-44</td>\n",
              "      <td>0-2</td>\n",
              "      <td>no</td>\n",
              "      <td>3</td>\n",
              "      <td>left</td>\n",
              "      <td>right_up</td>\n",
              "      <td>no</td>\n",
              "      <td>no-recurrence-events</td>\n",
              "    </tr>\n",
              "  </tbody>\n",
              "</table>\n",
              "<p>100 rows × 10 columns</p>\n",
              "</div>"
            ],
            "text/plain": [
              "       age menopause tumor-size  ... breast-quad irradiat                 class\n",
              "3    40-49   premeno      35-39  ...    left_low      yes  no-recurrence-events\n",
              "5    50-59   premeno      25-29  ...     left_up      yes  no-recurrence-events\n",
              "6    50-59      ge40      40-44  ...     left_up       no  no-recurrence-events\n",
              "10   50-59   premeno      25-29  ...    left_low       no  no-recurrence-events\n",
              "12   50-59      ge40      30-34  ...     central       no  no-recurrence-events\n",
              "..     ...       ...        ...  ...         ...      ...                   ...\n",
              "276  40-49   premeno      25-29  ...     left_up      yes  no-recurrence-events\n",
              "277  40-49   premeno      35-39  ...    right_up       no  no-recurrence-events\n",
              "278  50-59   premeno      30-34  ...    left_low      yes  no-recurrence-events\n",
              "279  40-49   premeno      20-24  ...    right_up       no  no-recurrence-events\n",
              "285  50-59      ge40      40-44  ...    right_up       no  no-recurrence-events\n",
              "\n",
              "[100 rows x 10 columns]"
            ]
          },
          "metadata": {},
          "execution_count": 1411
        }
      ]
    },
    {
      "cell_type": "markdown",
      "metadata": {
        "id": "KYZ17cL-zcX5"
      },
      "source": [
        "# PREP COLUMN_TRANSFORMER"
      ]
    },
    {
      "cell_type": "code",
      "metadata": {
        "id": "e42EP2RceCXa"
      },
      "source": [
        "# prep column_transformer\n",
        "# in this instance, we will encode all X variables with OHE (using OE throws an error)\n",
        "\n",
        "ct = make_column_transformer(\n",
        "    (OneHotEncoder(handle_unknown='ignore', sparse=False), ['age', 'tumor-size', 'inv-nodes', 'menopause', 'node-caps','deg-malig', 'breast', 'irradiat', 'class'])\n",
        ")\n",
        "\n",
        "\n"
      ],
      "execution_count": null,
      "outputs": []
    },
    {
      "cell_type": "markdown",
      "metadata": {
        "id": "icPh_kciUJZb"
      },
      "source": [
        " # DEFINE AND ENCODE Y"
      ]
    },
    {
      "cell_type": "code",
      "metadata": {
        "colab": {
          "base_uri": "https://localhost:8080/"
        },
        "id": "oAKt4Br5ifRn",
        "outputId": "d405d84d-0df4-4dbb-b6dd-9e34ff017400"
      },
      "source": [
        "# encode the dependent variable, y\n",
        "\n",
        "'''\n",
        "le = LabelEncoder()\n",
        "y = df['breast-quad']\n",
        "y = le.fit_transform(y)\n",
        "!!! Got better val_loss result when I used OHE on the y variable instead of LE\n",
        "'''\n",
        "\n",
        "ohe = OneHotEncoder(sparse=False) # sparse=False or we will get a non-tensor shape\n",
        "\n",
        "y = df[['breast-quad']] # add double square brackets or we'll get a shape error\n",
        "\n",
        "y = ohe.fit_transform(y)\n",
        "\n",
        "y[:10], y.shape"
      ],
      "execution_count": null,
      "outputs": [
        {
          "output_type": "execute_result",
          "data": {
            "text/plain": [
              "(array([[0., 1., 0., 0., 0.],\n",
              "        [0., 0., 1., 0., 0.],\n",
              "        [0., 0., 1., 0., 0.],\n",
              "        [0., 1., 0., 0., 0.],\n",
              "        [1., 0., 0., 0., 0.],\n",
              "        [1., 0., 0., 0., 0.],\n",
              "        [0., 0., 1., 0., 0.],\n",
              "        [1., 0., 0., 0., 0.],\n",
              "        [0., 0., 0., 0., 1.],\n",
              "        [1., 0., 0., 0., 0.]]), (100, 5))"
            ]
          },
          "metadata": {},
          "execution_count": 1413
        }
      ]
    },
    {
      "cell_type": "markdown",
      "metadata": {
        "id": "ZnKH_kGG1RkX"
      },
      "source": [
        "# DEFINE X \n"
      ]
    },
    {
      "cell_type": "code",
      "metadata": {
        "id": "O3ldrKZhsUTH",
        "colab": {
          "base_uri": "https://localhost:8080/"
        },
        "outputId": "643dc8b2-4e35-472a-b1d3-14f43d85d69e"
      },
      "source": [
        "# define X \n",
        "\n",
        "X = df.drop('breast-quad', axis='columns')\n",
        "\n",
        "X, y, X.shape, y.shape"
      ],
      "execution_count": null,
      "outputs": [
        {
          "output_type": "execute_result",
          "data": {
            "text/plain": [
              "(       age menopause tumor-size  ... breast irradiat                 class\n",
              " 3    40-49   premeno      35-39  ...  right      yes  no-recurrence-events\n",
              " 5    50-59   premeno      25-29  ...  right      yes  no-recurrence-events\n",
              " 6    50-59      ge40      40-44  ...   left       no  no-recurrence-events\n",
              " 10   50-59   premeno      25-29  ...   left       no  no-recurrence-events\n",
              " 12   50-59      ge40      30-34  ...  right       no  no-recurrence-events\n",
              " ..     ...       ...        ...  ...    ...      ...                   ...\n",
              " 276  40-49   premeno      25-29  ...   left      yes  no-recurrence-events\n",
              " 277  40-49   premeno      35-39  ...  right       no  no-recurrence-events\n",
              " 278  50-59   premeno      30-34  ...   left      yes  no-recurrence-events\n",
              " 279  40-49   premeno      20-24  ...  right       no  no-recurrence-events\n",
              " 285  50-59      ge40      40-44  ...   left       no  no-recurrence-events\n",
              " \n",
              " [100 rows x 9 columns], array([[0., 1., 0., 0., 0.],\n",
              "        [0., 0., 1., 0., 0.],\n",
              "        [0., 0., 1., 0., 0.],\n",
              "        [0., 1., 0., 0., 0.],\n",
              "        [1., 0., 0., 0., 0.],\n",
              "        [1., 0., 0., 0., 0.],\n",
              "        [0., 0., 1., 0., 0.],\n",
              "        [1., 0., 0., 0., 0.],\n",
              "        [0., 0., 0., 0., 1.],\n",
              "        [1., 0., 0., 0., 0.],\n",
              "        [0., 0., 0., 1., 0.],\n",
              "        [0., 0., 0., 0., 1.],\n",
              "        [0., 0., 0., 0., 1.],\n",
              "        [0., 1., 0., 0., 0.],\n",
              "        [0., 0., 1., 0., 0.],\n",
              "        [0., 0., 1., 0., 0.],\n",
              "        [1., 0., 0., 0., 0.],\n",
              "        [0., 0., 0., 0., 1.],\n",
              "        [1., 0., 0., 0., 0.],\n",
              "        [0., 0., 0., 0., 1.],\n",
              "        [0., 0., 1., 0., 0.],\n",
              "        [1., 0., 0., 0., 0.],\n",
              "        [0., 1., 0., 0., 0.],\n",
              "        [0., 1., 0., 0., 0.],\n",
              "        [0., 1., 0., 0., 0.],\n",
              "        [0., 0., 0., 1., 0.],\n",
              "        [0., 0., 0., 1., 0.],\n",
              "        [1., 0., 0., 0., 0.],\n",
              "        [1., 0., 0., 0., 0.],\n",
              "        [0., 0., 1., 0., 0.],\n",
              "        [0., 1., 0., 0., 0.],\n",
              "        [0., 0., 1., 0., 0.],\n",
              "        [0., 0., 0., 1., 0.],\n",
              "        [1., 0., 0., 0., 0.],\n",
              "        [0., 0., 0., 0., 1.],\n",
              "        [0., 0., 0., 0., 1.],\n",
              "        [0., 0., 0., 1., 0.],\n",
              "        [1., 0., 0., 0., 0.],\n",
              "        [0., 0., 0., 0., 1.],\n",
              "        [0., 1., 0., 0., 0.],\n",
              "        [0., 0., 0., 1., 0.],\n",
              "        [0., 0., 0., 1., 0.],\n",
              "        [0., 0., 0., 0., 1.],\n",
              "        [1., 0., 0., 0., 0.],\n",
              "        [1., 0., 0., 0., 0.],\n",
              "        [0., 0., 1., 0., 0.],\n",
              "        [1., 0., 0., 0., 0.],\n",
              "        [0., 0., 1., 0., 0.],\n",
              "        [0., 1., 0., 0., 0.],\n",
              "        [0., 1., 0., 0., 0.],\n",
              "        [0., 0., 0., 1., 0.],\n",
              "        [0., 0., 0., 0., 1.],\n",
              "        [1., 0., 0., 0., 0.],\n",
              "        [1., 0., 0., 0., 0.],\n",
              "        [0., 0., 1., 0., 0.],\n",
              "        [0., 1., 0., 0., 0.],\n",
              "        [0., 0., 1., 0., 0.],\n",
              "        [0., 0., 1., 0., 0.],\n",
              "        [0., 0., 0., 0., 1.],\n",
              "        [0., 0., 0., 0., 1.],\n",
              "        [0., 0., 0., 1., 0.],\n",
              "        [0., 0., 0., 0., 1.],\n",
              "        [1., 0., 0., 0., 0.],\n",
              "        [0., 0., 0., 1., 0.],\n",
              "        [0., 0., 0., 1., 0.],\n",
              "        [0., 0., 0., 1., 0.],\n",
              "        [0., 0., 0., 1., 0.],\n",
              "        [0., 1., 0., 0., 0.],\n",
              "        [0., 0., 1., 0., 0.],\n",
              "        [0., 1., 0., 0., 0.],\n",
              "        [0., 0., 0., 1., 0.],\n",
              "        [0., 0., 1., 0., 0.],\n",
              "        [0., 0., 0., 0., 1.],\n",
              "        [0., 0., 1., 0., 0.],\n",
              "        [0., 0., 0., 1., 0.],\n",
              "        [0., 1., 0., 0., 0.],\n",
              "        [0., 0., 0., 1., 0.],\n",
              "        [0., 0., 1., 0., 0.],\n",
              "        [0., 0., 0., 0., 1.],\n",
              "        [1., 0., 0., 0., 0.],\n",
              "        [0., 0., 0., 1., 0.],\n",
              "        [0., 1., 0., 0., 0.],\n",
              "        [0., 1., 0., 0., 0.],\n",
              "        [0., 0., 1., 0., 0.],\n",
              "        [0., 0., 0., 1., 0.],\n",
              "        [0., 0., 0., 1., 0.],\n",
              "        [0., 0., 1., 0., 0.],\n",
              "        [0., 1., 0., 0., 0.],\n",
              "        [0., 0., 0., 1., 0.],\n",
              "        [0., 1., 0., 0., 0.],\n",
              "        [1., 0., 0., 0., 0.],\n",
              "        [0., 0., 0., 0., 1.],\n",
              "        [1., 0., 0., 0., 0.],\n",
              "        [0., 1., 0., 0., 0.],\n",
              "        [0., 0., 0., 0., 1.],\n",
              "        [0., 0., 1., 0., 0.],\n",
              "        [0., 0., 0., 0., 1.],\n",
              "        [0., 1., 0., 0., 0.],\n",
              "        [0., 0., 0., 0., 1.],\n",
              "        [0., 0., 0., 0., 1.]]), (100, 9), (100, 5))"
            ]
          },
          "metadata": {},
          "execution_count": 1414
        }
      ]
    },
    {
      "cell_type": "markdown",
      "metadata": {
        "id": "eldJoRYM0XTq"
      },
      "source": [
        "# DEFINE TRAINING, VALIDATION AND TEST DATASETS\n",
        "- I increased the X_train y_train set to 90% to get better results when I fit the model, ie 60% val accuracy "
      ]
    },
    {
      "cell_type": "code",
      "metadata": {
        "id": "sMixdtHUshLv",
        "colab": {
          "base_uri": "https://localhost:8080/"
        },
        "outputId": "30719d2b-97c4-4f4e-8f61-56e2d6ab2c40"
      },
      "source": [
        "# get training, validation and test datasets (90:5:5 ratio)\n",
        "\n",
        "X_train, X_val, y_train, y_val = train_test_split(X, y, test_size=0.1, random_state=42)\n",
        " \n",
        "print(X_train.shape, y_train.shape, X_val.shape, y_val.shape)\n",
        "# (193, 9) (193,) (84, 9) (84,)\n",
        " \n",
        "X_val, X_test, y_val, y_test = train_test_split(X_val, y_val, test_size=0.5, random_state=42)\n",
        " \n",
        "print(X_val.shape, y_val.shape, X_test.shape, y_test.shape)\n",
        "# (42, 9) (42,) (42, 9) (42,)\n",
        "\n",
        "print('X_train: ' + str(X_train))\n",
        " \n",
        "print('y_train: ' + str(y_train))\n",
        " \n",
        "print('X_val: ' + str(X_val))\n",
        " \n",
        "print('y_val: ' + str(y_val))\n",
        " \n",
        "print('X_test: ' + str(X_test))\n",
        " \n",
        "print('y_test: ' + str(y_test))\n",
        "\n"
      ],
      "execution_count": null,
      "outputs": [
        {
          "output_type": "stream",
          "name": "stdout",
          "text": [
            "(90, 9) (90, 5) (10, 9) (10, 5)\n",
            "(5, 9) (5, 5) (5, 9) (5, 5)\n",
            "X_train:        age menopause tumor-size  ... breast irradiat                 class\n",
            "59   30-39   premeno        0-4  ...  right       no     recurrence-events\n",
            "95   40-49   premeno      45-49  ...   left      yes  no-recurrence-events\n",
            "225  60-69      ge40      30-34  ...  right       no  no-recurrence-events\n",
            "105  60-69      ge40      30-34  ...   left      yes     recurrence-events\n",
            "261  30-39   premeno      25-29  ...   left       no  no-recurrence-events\n",
            "..     ...       ...        ...  ...    ...      ...                   ...\n",
            "189  50-59   premeno      25-29  ...  right       no  no-recurrence-events\n",
            "216  60-69      ge40      25-29  ...   left       no     recurrence-events\n",
            "49   50-59      ge40      40-44  ...  right       no  no-recurrence-events\n",
            "265  50-59      ge40        0-4  ...   left       no  no-recurrence-events\n",
            "166  60-69      ge40      25-29  ...  right       no     recurrence-events\n",
            "\n",
            "[90 rows x 9 columns]\n",
            "y_train: [[1. 0. 0. 0. 0.]\n",
            " [0. 1. 0. 0. 0.]\n",
            " [0. 0. 1. 0. 0.]\n",
            " [1. 0. 0. 0. 0.]\n",
            " [1. 0. 0. 0. 0.]\n",
            " [1. 0. 0. 0. 0.]\n",
            " [0. 0. 0. 1. 0.]\n",
            " [0. 0. 1. 0. 0.]\n",
            " [0. 0. 0. 0. 1.]\n",
            " [0. 0. 1. 0. 0.]\n",
            " [0. 1. 0. 0. 0.]\n",
            " [0. 0. 0. 1. 0.]\n",
            " [0. 0. 0. 1. 0.]\n",
            " [0. 0. 0. 0. 1.]\n",
            " [0. 1. 0. 0. 0.]\n",
            " [0. 0. 1. 0. 0.]\n",
            " [0. 0. 0. 1. 0.]\n",
            " [0. 0. 0. 0. 1.]\n",
            " [1. 0. 0. 0. 0.]\n",
            " [0. 0. 0. 0. 1.]\n",
            " [0. 0. 0. 0. 1.]\n",
            " [0. 0. 1. 0. 0.]\n",
            " [0. 0. 0. 1. 0.]\n",
            " [1. 0. 0. 0. 0.]\n",
            " [0. 1. 0. 0. 0.]\n",
            " [1. 0. 0. 0. 0.]\n",
            " [0. 0. 0. 1. 0.]\n",
            " [0. 0. 0. 1. 0.]\n",
            " [0. 0. 0. 0. 1.]\n",
            " [1. 0. 0. 0. 0.]\n",
            " [0. 1. 0. 0. 0.]\n",
            " [0. 0. 0. 0. 1.]\n",
            " [1. 0. 0. 0. 0.]\n",
            " [0. 0. 1. 0. 0.]\n",
            " [1. 0. 0. 0. 0.]\n",
            " [0. 0. 0. 0. 1.]\n",
            " [0. 1. 0. 0. 0.]\n",
            " [0. 0. 0. 1. 0.]\n",
            " [1. 0. 0. 0. 0.]\n",
            " [0. 1. 0. 0. 0.]\n",
            " [0. 1. 0. 0. 0.]\n",
            " [0. 1. 0. 0. 0.]\n",
            " [0. 0. 0. 0. 1.]\n",
            " [0. 0. 0. 0. 1.]\n",
            " [0. 0. 0. 0. 1.]\n",
            " [0. 0. 0. 0. 1.]\n",
            " [0. 0. 1. 0. 0.]\n",
            " [0. 0. 0. 1. 0.]\n",
            " [0. 0. 0. 1. 0.]\n",
            " [0. 1. 0. 0. 0.]\n",
            " [0. 0. 1. 0. 0.]\n",
            " [0. 0. 0. 0. 1.]\n",
            " [0. 0. 1. 0. 0.]\n",
            " [1. 0. 0. 0. 0.]\n",
            " [0. 0. 0. 1. 0.]\n",
            " [0. 1. 0. 0. 0.]\n",
            " [1. 0. 0. 0. 0.]\n",
            " [0. 0. 1. 0. 0.]\n",
            " [0. 0. 0. 0. 1.]\n",
            " [0. 1. 0. 0. 0.]\n",
            " [1. 0. 0. 0. 0.]\n",
            " [0. 0. 0. 1. 0.]\n",
            " [0. 0. 0. 0. 1.]\n",
            " [0. 1. 0. 0. 0.]\n",
            " [0. 0. 0. 0. 1.]\n",
            " [0. 0. 1. 0. 0.]\n",
            " [0. 1. 0. 0. 0.]\n",
            " [0. 0. 0. 1. 0.]\n",
            " [0. 0. 0. 0. 1.]\n",
            " [0. 0. 0. 0. 1.]\n",
            " [0. 0. 0. 1. 0.]\n",
            " [0. 0. 0. 1. 0.]\n",
            " [1. 0. 0. 0. 0.]\n",
            " [0. 0. 1. 0. 0.]\n",
            " [0. 0. 1. 0. 0.]\n",
            " [1. 0. 0. 0. 0.]\n",
            " [1. 0. 0. 0. 0.]\n",
            " [0. 0. 1. 0. 0.]\n",
            " [0. 1. 0. 0. 0.]\n",
            " [0. 1. 0. 0. 0.]\n",
            " [0. 0. 0. 0. 1.]\n",
            " [0. 0. 0. 1. 0.]\n",
            " [0. 0. 1. 0. 0.]\n",
            " [0. 1. 0. 0. 0.]\n",
            " [0. 0. 1. 0. 0.]\n",
            " [0. 0. 0. 1. 0.]\n",
            " [0. 0. 1. 0. 0.]\n",
            " [0. 0. 1. 0. 0.]\n",
            " [1. 0. 0. 0. 0.]\n",
            " [0. 0. 0. 0. 1.]]\n",
            "X_val:        age menopause tumor-size  ... breast irradiat                 class\n",
            "213  50-59      ge40      25-29  ...   left       no  no-recurrence-events\n",
            "3    40-49   premeno      35-39  ...  right      yes  no-recurrence-events\n",
            "139  50-59   premeno      30-34  ...   left       no  no-recurrence-events\n",
            "142  40-49   premeno      30-34  ...  right       no     recurrence-events\n",
            "67   60-69      ge40      15-19  ...   left       no  no-recurrence-events\n",
            "\n",
            "[5 rows x 9 columns]\n",
            "y_val: [[0. 0. 0. 1. 0.]\n",
            " [0. 1. 0. 0. 0.]\n",
            " [1. 0. 0. 0. 0.]\n",
            " [0. 0. 1. 0. 0.]\n",
            " [0. 1. 0. 0. 0.]]\n",
            "X_test:        age menopause tumor-size  ... breast irradiat                 class\n",
            "39   40-49   premeno      10-14  ...  right       no  no-recurrence-events\n",
            "170  50-59      ge40      20-24  ...  right       no     recurrence-events\n",
            "122  40-49   premeno      15-19  ...   left       no  no-recurrence-events\n",
            "248  50-59      ge40      10-14  ...   left       no  no-recurrence-events\n",
            "243  40-49   premeno      30-34  ...  right       no  no-recurrence-events\n",
            "\n",
            "[5 rows x 9 columns]\n",
            "y_test: [[0. 0. 0. 1. 0.]\n",
            " [1. 0. 0. 0. 0.]\n",
            " [0. 1. 0. 0. 0.]\n",
            " [0. 0. 1. 0. 0.]\n",
            " [0. 0. 0. 1. 0.]]\n"
          ]
        }
      ]
    },
    {
      "cell_type": "code",
      "metadata": {
        "colab": {
          "base_uri": "https://localhost:8080/",
          "height": 615
        },
        "id": "xhE1CvbEo8Bm",
        "outputId": "76f3653a-902d-450f-84ac-74a6fa7dad45"
      },
      "source": [
        "X_train"
      ],
      "execution_count": null,
      "outputs": [
        {
          "output_type": "execute_result",
          "data": {
            "text/html": [
              "<div>\n",
              "<style scoped>\n",
              "    .dataframe tbody tr th:only-of-type {\n",
              "        vertical-align: middle;\n",
              "    }\n",
              "\n",
              "    .dataframe tbody tr th {\n",
              "        vertical-align: top;\n",
              "    }\n",
              "\n",
              "    .dataframe thead th {\n",
              "        text-align: right;\n",
              "    }\n",
              "</style>\n",
              "<table border=\"1\" class=\"dataframe\">\n",
              "  <thead>\n",
              "    <tr style=\"text-align: right;\">\n",
              "      <th></th>\n",
              "      <th>age</th>\n",
              "      <th>menopause</th>\n",
              "      <th>tumor-size</th>\n",
              "      <th>inv-nodes</th>\n",
              "      <th>node-caps</th>\n",
              "      <th>deg-malig</th>\n",
              "      <th>breast</th>\n",
              "      <th>irradiat</th>\n",
              "      <th>class</th>\n",
              "    </tr>\n",
              "  </thead>\n",
              "  <tbody>\n",
              "    <tr>\n",
              "      <th>59</th>\n",
              "      <td>30-39</td>\n",
              "      <td>premeno</td>\n",
              "      <td>0-4</td>\n",
              "      <td>0-2</td>\n",
              "      <td>no</td>\n",
              "      <td>2</td>\n",
              "      <td>right</td>\n",
              "      <td>no</td>\n",
              "      <td>recurrence-events</td>\n",
              "    </tr>\n",
              "    <tr>\n",
              "      <th>95</th>\n",
              "      <td>40-49</td>\n",
              "      <td>premeno</td>\n",
              "      <td>45-49</td>\n",
              "      <td>0-2</td>\n",
              "      <td>no</td>\n",
              "      <td>2</td>\n",
              "      <td>left</td>\n",
              "      <td>yes</td>\n",
              "      <td>no-recurrence-events</td>\n",
              "    </tr>\n",
              "    <tr>\n",
              "      <th>225</th>\n",
              "      <td>60-69</td>\n",
              "      <td>ge40</td>\n",
              "      <td>30-34</td>\n",
              "      <td>0-2</td>\n",
              "      <td>no</td>\n",
              "      <td>1</td>\n",
              "      <td>right</td>\n",
              "      <td>no</td>\n",
              "      <td>no-recurrence-events</td>\n",
              "    </tr>\n",
              "    <tr>\n",
              "      <th>105</th>\n",
              "      <td>60-69</td>\n",
              "      <td>ge40</td>\n",
              "      <td>30-34</td>\n",
              "      <td>3-5</td>\n",
              "      <td>yes</td>\n",
              "      <td>2</td>\n",
              "      <td>left</td>\n",
              "      <td>yes</td>\n",
              "      <td>recurrence-events</td>\n",
              "    </tr>\n",
              "    <tr>\n",
              "      <th>261</th>\n",
              "      <td>30-39</td>\n",
              "      <td>premeno</td>\n",
              "      <td>25-29</td>\n",
              "      <td>0-2</td>\n",
              "      <td>no</td>\n",
              "      <td>1</td>\n",
              "      <td>left</td>\n",
              "      <td>no</td>\n",
              "      <td>no-recurrence-events</td>\n",
              "    </tr>\n",
              "    <tr>\n",
              "      <th>...</th>\n",
              "      <td>...</td>\n",
              "      <td>...</td>\n",
              "      <td>...</td>\n",
              "      <td>...</td>\n",
              "      <td>...</td>\n",
              "      <td>...</td>\n",
              "      <td>...</td>\n",
              "      <td>...</td>\n",
              "      <td>...</td>\n",
              "    </tr>\n",
              "    <tr>\n",
              "      <th>189</th>\n",
              "      <td>50-59</td>\n",
              "      <td>premeno</td>\n",
              "      <td>25-29</td>\n",
              "      <td>0-2</td>\n",
              "      <td>no</td>\n",
              "      <td>2</td>\n",
              "      <td>right</td>\n",
              "      <td>no</td>\n",
              "      <td>no-recurrence-events</td>\n",
              "    </tr>\n",
              "    <tr>\n",
              "      <th>216</th>\n",
              "      <td>60-69</td>\n",
              "      <td>ge40</td>\n",
              "      <td>25-29</td>\n",
              "      <td>0-2</td>\n",
              "      <td>no</td>\n",
              "      <td>3</td>\n",
              "      <td>left</td>\n",
              "      <td>no</td>\n",
              "      <td>recurrence-events</td>\n",
              "    </tr>\n",
              "    <tr>\n",
              "      <th>49</th>\n",
              "      <td>50-59</td>\n",
              "      <td>ge40</td>\n",
              "      <td>40-44</td>\n",
              "      <td>0-2</td>\n",
              "      <td>no</td>\n",
              "      <td>3</td>\n",
              "      <td>right</td>\n",
              "      <td>no</td>\n",
              "      <td>no-recurrence-events</td>\n",
              "    </tr>\n",
              "    <tr>\n",
              "      <th>265</th>\n",
              "      <td>50-59</td>\n",
              "      <td>ge40</td>\n",
              "      <td>0-4</td>\n",
              "      <td>0-2</td>\n",
              "      <td>no</td>\n",
              "      <td>2</td>\n",
              "      <td>left</td>\n",
              "      <td>no</td>\n",
              "      <td>no-recurrence-events</td>\n",
              "    </tr>\n",
              "    <tr>\n",
              "      <th>166</th>\n",
              "      <td>60-69</td>\n",
              "      <td>ge40</td>\n",
              "      <td>25-29</td>\n",
              "      <td>3-5</td>\n",
              "      <td>no</td>\n",
              "      <td>2</td>\n",
              "      <td>right</td>\n",
              "      <td>no</td>\n",
              "      <td>recurrence-events</td>\n",
              "    </tr>\n",
              "  </tbody>\n",
              "</table>\n",
              "<p>90 rows × 9 columns</p>\n",
              "</div>"
            ],
            "text/plain": [
              "       age menopause tumor-size  ... breast irradiat                 class\n",
              "59   30-39   premeno        0-4  ...  right       no     recurrence-events\n",
              "95   40-49   premeno      45-49  ...   left      yes  no-recurrence-events\n",
              "225  60-69      ge40      30-34  ...  right       no  no-recurrence-events\n",
              "105  60-69      ge40      30-34  ...   left      yes     recurrence-events\n",
              "261  30-39   premeno      25-29  ...   left       no  no-recurrence-events\n",
              "..     ...       ...        ...  ...    ...      ...                   ...\n",
              "189  50-59   premeno      25-29  ...  right       no  no-recurrence-events\n",
              "216  60-69      ge40      25-29  ...   left       no     recurrence-events\n",
              "49   50-59      ge40      40-44  ...  right       no  no-recurrence-events\n",
              "265  50-59      ge40        0-4  ...   left       no  no-recurrence-events\n",
              "166  60-69      ge40      25-29  ...  right       no     recurrence-events\n",
              "\n",
              "[90 rows x 9 columns]"
            ]
          },
          "metadata": {},
          "execution_count": 1416
        }
      ]
    },
    {
      "cell_type": "code",
      "metadata": {
        "colab": {
          "base_uri": "https://localhost:8080/"
        },
        "id": "YJ2wyCZqmnTk",
        "outputId": "e72ac0f0-786a-461e-d18e-ae5cd0969abd"
      },
      "source": [
        "# fit and transform the training data\n",
        "\n",
        "ct.fit(X_train)\n",
        "\n",
        "X_train_normal = ct.transform(X_train)\n",
        "X_val_normal = ct.transform(X_val)\n",
        "X_test_normal = ct.transform(X_test)\n",
        "\n",
        "print(X_train_normal.shape, X_val_normal.shape, X_test_normal.shape)\n",
        "print(X_train_normal[0])\n",
        "print(type(X_train_normal))"
      ],
      "execution_count": null,
      "outputs": [
        {
          "output_type": "stream",
          "name": "stdout",
          "text": [
            "(90, 37) (5, 37) (5, 37)\n",
            "[0. 1. 0. 0. 0. 0. 1. 0. 0. 0. 0. 0. 0. 0. 0. 0. 0. 1. 0. 0. 0. 0. 0. 0.\n",
            " 0. 1. 1. 0. 0. 1. 0. 0. 1. 1. 0. 0. 1.]\n",
            "<class 'numpy.ndarray'>\n"
          ]
        }
      ]
    },
    {
      "cell_type": "code",
      "metadata": {
        "id": "X4u1ZjEluH2n"
      },
      "source": [
        "# data preprocessing is done, all training data have been encoded to a 0 or 1\n",
        "# now we can build the model"
      ],
      "execution_count": null,
      "outputs": []
    },
    {
      "cell_type": "code",
      "metadata": {
        "id": "4oDTsOcO9xyE"
      },
      "source": [
        ""
      ],
      "execution_count": null,
      "outputs": []
    },
    {
      "cell_type": "markdown",
      "metadata": {
        "id": "9vS2njUy0iXu"
      },
      "source": [
        "# BUILD MODEL\n",
        "- By adding a lot more hidden units (neurons) eg from 10 to 50, and by adding a Dropout layer to help avoid overfitting, I was able to increase the val accuracy from 50% to 60%"
      ]
    },
    {
      "cell_type": "code",
      "metadata": {
        "id": "NrZFJs6K091A"
      },
      "source": [
        "tf.random.set_seed(42)\n",
        "\n",
        "model_1 = keras.Sequential([\n",
        "                            keras.layers.Dense(50, activation='relu'),  \n",
        "                            keras.layers.Dropout(0.2),  \n",
        "                            keras.layers.Dense(30, activation='relu'),\n",
        "                            keras.layers.Dense(5, activation='softmax'),\n",
        "\n",
        "])\n"
      ],
      "execution_count": null,
      "outputs": []
    },
    {
      "cell_type": "code",
      "metadata": {
        "colab": {
          "base_uri": "https://localhost:8080/",
          "height": 175
        },
        "id": "3TlrUvQM-zaw",
        "outputId": "9fba0c54-8ba2-4373-9903-80084fb7102a"
      },
      "source": [
        "model_1.compile(loss='categorical_crossentropy', optimizer=keras.optimizers.Adam(learning_rate=0.001), metrics='accuracy')\n",
        "\n",
        "'''\n",
        "Both, categorical cross entropy and sparse categorical cross entropy have the same loss function which you have mentioned above. The only difference is the format in which you mention 𝑌𝑖 (i,e true labels).\n",
        "If your 𝑌𝑖's are one-hot encoded, use categorical_crossentropy. Examples (for a 3-class classification): [1,0,0] , [0,1,0], [0,0,1]\n",
        "But if your 𝑌𝑖's are integers, use sparse_categorical_crossentropy. Examples for above 3-class classification problem: [1] , [2], [3]\n",
        "The usage entirely depends on how you load your dataset. One advantage of using sparse categorical cross entropy is it saves time in memory as well as computation because it simply uses a single integer for a class, rather than a whole vector.\n",
        "'''"
      ],
      "execution_count": null,
      "outputs": [
        {
          "output_type": "execute_result",
          "data": {
            "application/vnd.google.colaboratory.intrinsic+json": {
              "type": "string"
            },
            "text/plain": [
              "\"\\nBoth, categorical cross entropy and sparse categorical cross entropy have the same loss function which you have mentioned above. The only difference is the format in which you mention 𝑌𝑖 (i,e true labels).\\nIf your 𝑌𝑖's are one-hot encoded, use categorical_crossentropy. Examples (for a 3-class classification): [1,0,0] , [0,1,0], [0,0,1]\\nBut if your 𝑌𝑖's are integers, use sparse_categorical_crossentropy. Examples for above 3-class classification problem: [1] , [2], [3]\\nThe usage entirely depends on how you load your dataset. One advantage of using sparse categorical cross entropy is it saves time in memory as well as computation because it simply uses a single integer for a class, rather than a whole vector.\\n\""
            ]
          },
          "metadata": {},
          "execution_count": 1420
        }
      ]
    },
    {
      "cell_type": "code",
      "metadata": {
        "colab": {
          "base_uri": "https://localhost:8080/"
        },
        "id": "GqzLjKzp_KXO",
        "outputId": "8e24b0a1-c258-4fe4-d128-a7bd6824622c"
      },
      "source": [
        "history_1 = model_1.fit(\n",
        "    X_train_normal,\n",
        "    y_train,\n",
        "    epochs=6,\n",
        "    validation_data=(X_val_normal, y_val),\n",
        "    verbose=2,\n",
        ")"
      ],
      "execution_count": null,
      "outputs": [
        {
          "output_type": "stream",
          "name": "stdout",
          "text": [
            "Epoch 1/6\n",
            "3/3 - 1s - loss: 1.6107 - accuracy: 0.1889 - val_loss: 1.4877 - val_accuracy: 0.4000\n",
            "Epoch 2/6\n",
            "3/3 - 0s - loss: 1.5770 - accuracy: 0.2889 - val_loss: 1.4807 - val_accuracy: 0.4000\n",
            "Epoch 3/6\n",
            "3/3 - 0s - loss: 1.5621 - accuracy: 0.2667 - val_loss: 1.4746 - val_accuracy: 0.4000\n",
            "Epoch 4/6\n",
            "3/3 - 0s - loss: 1.5581 - accuracy: 0.2889 - val_loss: 1.4706 - val_accuracy: 0.6000\n",
            "Epoch 5/6\n",
            "3/3 - 0s - loss: 1.5508 - accuracy: 0.2222 - val_loss: 1.4673 - val_accuracy: 0.6000\n",
            "Epoch 6/6\n",
            "3/3 - 0s - loss: 1.5426 - accuracy: 0.2889 - val_loss: 1.4625 - val_accuracy: 0.6000\n"
          ]
        }
      ]
    },
    {
      "cell_type": "code",
      "metadata": {
        "id": "PhYP62Pyho80"
      },
      "source": [
        "# IMPROVEMENT LOG # val_loss: 1.5041 - val_accuracy: 0.4286 , when train-val-test ratio was (70:15:15)\n",
        "# HIGHEST SCORE TO DATE: val_loss: 1.3646 - val_accuracy: 0.5357, train-val-test ratio revised to (80:10:10)"
      ],
      "execution_count": null,
      "outputs": []
    },
    {
      "cell_type": "markdown",
      "metadata": {
        "id": "uKkgg7gOUZu0"
      },
      "source": [
        "# EVALUATE MODEL"
      ]
    },
    {
      "cell_type": "code",
      "metadata": {
        "colab": {
          "base_uri": "https://localhost:8080/",
          "height": 459
        },
        "id": "JDa2H2UONgI5",
        "outputId": "d550871a-1f10-45ae-88ff-7f9b40ede97c"
      },
      "source": [
        "# loss curve\n",
        "\n",
        "import matplotlib.pyplot as plt\n",
        "\n",
        "pd.DataFrame(history_1.history).plot(figsize=(10,7))\n",
        "plt.xlabel('epochs')"
      ],
      "execution_count": null,
      "outputs": [
        {
          "output_type": "execute_result",
          "data": {
            "text/plain": [
              "Text(0.5, 0, 'epochs')"
            ]
          },
          "metadata": {},
          "execution_count": 1423
        },
        {
          "output_type": "display_data",
          "data": {
            "image/png": "[encoded data removed]",
            "text/plain": [
              "<Figure size 720x504 with 1 Axes>"
            ]
          },
          "metadata": {
            "needs_background": "light"
          }
        }
      ]
    },
    {
      "cell_type": "markdown",
      "metadata": {
        "id": "yn3ozkgBfD9J"
      },
      "source": [
        "# MAKE A PREDICTION"
      ]
    },
    {
      "cell_type": "code",
      "metadata": {
        "colab": {
          "base_uri": "https://localhost:8080/"
        },
        "id": "A4lyXlZPZxv2",
        "outputId": "e8e295fe-4e21-454d-ce07-351d35310a91"
      },
      "source": [
        "\n",
        "# make a prediction with X_test_normal\n",
        "\n",
        "y_pred = model_1.predict(X_test_normal)\n",
        "\n",
        "print(y_pred)\n",
        "\n",
        "# now we clean up y_pred: create one list with the index of largest num in each y_pred result/row \n",
        "\n",
        "y_pred = y_pred.argmax(axis=-1)\n",
        "\n",
        "print(y_pred)\n",
        "\n",
        "\n",
        "# get the actual results of y_test (pre-encoded)\n",
        "\n",
        "actual_y_test = ohe.inverse_transform(y_test)\n",
        "\n",
        "print(y_test)\n",
        "\n",
        "# reshaped to a 2D tensor for easier comparison\n",
        "\n",
        "actual_y_test = actual_y_test.ravel()\n",
        "\n",
        "print(actual_y_test)\n",
        "\n",
        "\n",
        "# convert y_pred to string labels to compare with actual_y_test. First we manually enter classes by index\n",
        "\n",
        "classes_by_index = ['central', 'left-low', 'left-up', 'right-low', 'right-up']\n",
        "\n",
        "# then we append each prediction into a list\n",
        "\n",
        "y_pred_breast_quad = []\n",
        "\n",
        "for i in y_pred:\n",
        "  y_pred_breast_quad.append(classes_by_index[i])\n",
        "\n",
        "# we convert the list into a numpy array and then into a 2D tensor so we can compare with actual_y_test\n",
        "\n",
        "#y_pred_breast_quad = np.asarray(y_pred_breast_quad).reshape(4,7)\n",
        "\n",
        "print(y_pred_breast_quad)\n"
      ],
      "execution_count": null,
      "outputs": [
        {
          "output_type": "stream",
          "name": "stdout",
          "text": [
            "[[0.17695148 0.22128877 0.18655843 0.22437645 0.1908249 ]\n",
            " [0.23461069 0.17831686 0.20906167 0.13693775 0.24107307]\n",
            " [0.17798425 0.260275   0.15896937 0.24401064 0.15876068]\n",
            " [0.2828038  0.18959397 0.12637103 0.20741016 0.19382109]\n",
            " [0.17251793 0.23619455 0.2556157  0.1352811  0.20039076]]\n",
            "[3 4 1 0 2]\n",
            "[[0. 0. 0. 1. 0.]\n",
            " [1. 0. 0. 0. 0.]\n",
            " [0. 1. 0. 0. 0.]\n",
            " [0. 0. 1. 0. 0.]\n",
            " [0. 0. 0. 1. 0.]]\n",
            "['right_low' 'central' 'left_low' 'left_up' 'right_low']\n",
            "['right-low', 'right-up', 'left-low', 'central', 'left-up']\n"
          ]
        }
      ]
    },
    {
      "cell_type": "code",
      "metadata": {
        "colab": {
          "base_uri": "https://localhost:8080/"
        },
        "id": "ntFPCWA4qTG3",
        "outputId": "3971f972-e493-42e2-a988-61f6a62f1c6a"
      },
      "source": [
        "# evaluate val and test outcomes\n",
        "\n",
        "model_1.evaluate(X_val_normal, y_val), model_1.evaluate(X_test_normal, y_test)\n"
      ],
      "execution_count": null,
      "outputs": [
        {
          "output_type": "stream",
          "name": "stdout",
          "text": [
            "1/1 [==============================] - 0s 25ms/step - loss: 1.4625 - accuracy: 0.6000\n",
            "1/1 [==============================] - 0s 17ms/step - loss: 1.6718 - accuracy: 0.4000\n"
          ]
        },
        {
          "output_type": "execute_result",
          "data": {
            "text/plain": [
              "([1.4624760150909424, 0.6000000238418579],\n",
              " [1.6718413829803467, 0.4000000059604645])"
            ]
          },
          "metadata": {},
          "execution_count": 1425
        }
      ]
    },
    {
      "cell_type": "code",
      "metadata": {
        "id": "9atHXDYbp3A2",
        "colab": {
          "base_uri": "https://localhost:8080/"
        },
        "outputId": "ddf0f3c6-06fc-4510-87a5-80ccee9a7932"
      },
      "source": [
        "# Check for \"class imbalance\" (our class is breast-quad)\n",
        "\n",
        "c = df.iloc[:, 7:8]\n",
        "\n",
        "c.value_counts()\n",
        "'''\n",
        "breast-quad\n",
        "right_up       20\n",
        "right_low      20\n",
        "left_up        20\n",
        "left_low       20\n",
        "central        20\n",
        "'''\n",
        "# NO CLASS IMBALANCE bc we dropped rows using our remove_rows function"
      ],
      "execution_count": null,
      "outputs": [
        {
          "output_type": "execute_result",
          "data": {
            "text/plain": [
              "breast-quad\n",
              "right_up       20\n",
              "right_low      20\n",
              "left_up        20\n",
              "left_low       20\n",
              "central        20\n",
              "dtype: int64"
            ]
          },
          "metadata": {},
          "execution_count": 1440
        }
      ]
    },
    {
      "cell_type": "markdown",
      "metadata": {
        "id": "oHwruhwyigag"
      },
      "source": [
        "# FINDINGS \n",
        "\n",
        "- I get 2 out of 5 correct, testing with unseen data, with this model. This is not a small victory for me as prev models would get 8/28 right ie 28.6% whereas now I can achieve 40% accuracy.\n",
        "- Remember that this is a very small sample of only 100! \n",
        "- Best of all, IMHO, this model is more 'creative' with preds ie [3 4 1 0 2] rather than [1 1 2 1 1 1 1 1 1 1 2 2 1 2 1 1 1 2 1 1 1 1 1 1 1 1 1 1] previously!\n",
        "- By **(1) radically fixing class imbalance** (row reduction from 277 to 100) and\n",
        "- **(2) adding a lot more units per hidden layer** and \n",
        "- **(3) adding a Dropout layer**, I was able to improve the model\n"
      ]
    },
    {
      "cell_type": "code",
      "metadata": {
        "id": "9U3f96v12KEI"
      },
      "source": [
        ""
      ],
      "execution_count": null,
      "outputs": []
    },
    {
      "cell_type": "markdown",
      "metadata": {
        "id": "AqlW4IsChmyK"
      },
      "source": [
        ""
      ]
    },
    {
      "cell_type": "markdown",
      "metadata": {
        "id": "pq8icinRuKFY"
      },
      "source": [
        "Excellent article on class imbalance https://journalofbigdata.springeropen.com/articles/10.1186/s40537-019-0192-5 "
      ]
    },
    {
      "cell_type": "markdown",
      "metadata": {
        "id": "sol0VWelCflr"
      },
      "source": [
        ""
      ]
    },
    {
      "cell_type": "markdown",
      "metadata": {
        "id": "2FvSD0iu6Of1"
      },
      "source": [
        "# SCRIPT DUMP"
      ]
    },
    {
      "cell_type": "code",
      "metadata": {
        "id": "m7CV8M6QlhGQ",
        "colab": {
          "base_uri": "https://localhost:8080/",
          "height": 87
        },
        "outputId": "494f3bd6-8d61-4ac1-eb87-c463f0f828c6"
      },
      "source": [
        "'''le = LabelEncoder()\n",
        "\n",
        "input_labels = ['red', 'black', 'red', 'green', 'black', 'yellow', 'white']\n",
        "\n",
        "le.fit(input_labels)\n",
        "\n",
        "\n",
        "\n",
        "test_labels = ['green', 'yellow', 'black']\n",
        "\n",
        "encoded_values = le.transform(test_labels)\n",
        "\n",
        "print(encoded_values)\n",
        "\n",
        "\n",
        "\n",
        "decoded_list = le.inverse_transform(encoded_values)\n",
        "\n",
        "print(decoded_list)'''"
      ],
      "execution_count": null,
      "outputs": [
        {
          "output_type": "execute_result",
          "data": {
            "application/vnd.google.colaboratory.intrinsic+json": {
              "type": "string"
            },
            "text/plain": [
              "\"le = LabelEncoder()\\n\\ninput_labels = ['red', 'black', 'red', 'green', 'black', 'yellow', 'white']\\n\\nle.fit(input_labels)\\n\\n\\n\\ntest_labels = ['green', 'yellow', 'black']\\n\\nencoded_values = le.transform(test_labels)\\n\\nprint(encoded_values)\\n\\n\\n\\ndecoded_list = le.inverse_transform(encoded_values)\\n\\nprint(decoded_list)\""
            ]
          },
          "metadata": {},
          "execution_count": 1433
        }
      ]
    },
    {
      "cell_type": "code",
      "metadata": {
        "id": "7nfHKJkF8Rfd",
        "colab": {
          "base_uri": "https://localhost:8080/",
          "height": 244
        },
        "outputId": "b71bfa3e-0eaf-4ad0-b601-603bac3be095"
      },
      "source": [
        "'''# THE AVERAGE TUMOR SIZE FROM ENCODED DATA IS... \n",
        "\n",
        "print(X_train['tumor-size'].mean())\n",
        "# NB we don't use the normalised X_train \n",
        "\n",
        "print()\n",
        "\n",
        "\n",
        "# GET THE PRE-ENCODED DATA SO WE CAN FIND OUT WHAT AVERAGE TUMOR SIZE FROM ENCODED DATA IS\n",
        "\n",
        "# pre_encoded = OrdinalEncoder().fit(THE ORIGINAL PRE-ENCODED COLUMN IN 2D ARRAY).inverse_transform(THE POST-ENCODED COLUMN ALSO IN 2D ARRAY)\n",
        "\n",
        "\n",
        "# get pre_encoded col\n",
        "\n",
        "pre_encoded = df['tumor-size']\n",
        "\n",
        "print(pre_encoded.shape) # (277,) shape is not usable, so... \n",
        "\n",
        "reshaped_pre_encoded = pre_encoded.to_numpy().reshape(-1,1)\n",
        "\n",
        "print(reshaped_pre_encoded.shape) # shape is now (277, 1)\n",
        "\n",
        "\n",
        "# now get post_encoded col\n",
        "\n",
        "post_encoded = X.iloc[:, 2:3]\n",
        "\n",
        "print(post_encoded.head(15), '\\n', type(post_encoded), '\\n', post_encoded.shape) # shape is (277, 1)\n",
        "\n",
        "\n",
        "# now we can inverse transform\n",
        "\n",
        "pre_encoded_result = OrdinalEncoder().fit(reshaped_pre_encoded).inverse_transform(post_encoded)\n",
        "\n",
        "print(pre_encoded_result[:15], '\\n', type(pre_encoded_result))\n",
        "\n",
        "# print(len(df['tumor-size']), len(pre_encoded_result)) # both are 277\n",
        "\n",
        "\n",
        "# FROM THE ABOVE WE CAN CONCLUDE THAT...\n",
        "\n",
        "# from the mean of 4 (3.98) for tumor-size,\n",
        "# and from comparing pre- and post-encoded nums,\n",
        "# mean of 4 (3.98) for tumor-size == ['25-29']\n",
        "# which means the average tumor size is 25 to 29 (mm?)\n",
        "\n",
        "\n",
        "# OK so the funny thing is that if we just print reshaped_pre_encoded we will get the pre-encoded data from idx 0\n",
        "# without having to go thru all the rest of the code!!!\n",
        "print(reshaped_pre_encoded[:10])\n",
        "# so we can do this next time :-)\n",
        "'''"
      ],
      "execution_count": null,
      "outputs": [
        {
          "output_type": "execute_result",
          "data": {
            "application/vnd.google.colaboratory.intrinsic+json": {
              "type": "string"
            },
            "text/plain": [
              "\"# THE AVERAGE TUMOR SIZE FROM ENCODED DATA IS... \\n\\nprint(X_train['tumor-size'].mean())\\n# NB we don't use the normalised X_train \\n\\nprint()\\n\\n\\n# GET THE PRE-ENCODED DATA SO WE CAN FIND OUT WHAT AVERAGE TUMOR SIZE FROM ENCODED DATA IS\\n\\n# pre_encoded = OrdinalEncoder().fit(THE ORIGINAL PRE-ENCODED COLUMN IN 2D ARRAY).inverse_transform(THE POST-ENCODED COLUMN ALSO IN 2D ARRAY)\\n\\n\\n# get pre_encoded col\\n\\npre_encoded = df['tumor-size']\\n\\nprint(pre_encoded.shape) # (277,) shape is not usable, so... \\n\\nreshaped_pre_encoded = pre_encoded.to_numpy().reshape(-1,1)\\n\\nprint(reshaped_pre_encoded.shape) # shape is now (277, 1)\\n\\n\\n# now get post_encoded col\\n\\npost_encoded = X.iloc[:, 2:3]\\n\\nprint(post_encoded.head(15), '\\n', type(post_encoded), '\\n', post_encoded.shape) # shape is (277, 1)\\n\\n\\n# now we can inverse transform\\n\\npre_encoded_result = OrdinalEncoder().fit(reshaped_pre_encoded).inverse_transform(post_encoded)\\n\\nprint(pre_encoded_result[:15], '\\n', type(pre_encoded_result))\\n\\n# print(len(df['tumor-size']), len(pre_encoded_result)) # both are 277\\n\\n\\n# FROM THE ABOVE WE CAN CONCLUDE THAT...\\n\\n# from the mean of 4 (3.98) for tumor-size,\\n# and from comparing pre- and post-encoded nums,\\n# mean of 4 (3.98) for tumor-size == ['25-29']\\n# which means the average tumor size is 25 to 29 (mm?)\\n\\n\\n# OK so the funny thing is that if we just print reshaped_pre_encoded we will get the pre-encoded data from idx 0\\n# without having to go thru all the rest of the code!!!\\nprint(reshaped_pre_encoded[:10])\\n# so we can do this next time :-)\\n\""
            ]
          },
          "metadata": {},
          "execution_count": 1434
        }
      ]
    },
    {
      "cell_type": "code",
      "metadata": {
        "id": "FSBYiWP6DCDZ",
        "colab": {
          "base_uri": "https://localhost:8080/",
          "height": 244
        },
        "outputId": "6198a2cb-e72d-4d54-a033-c15cd7013158"
      },
      "source": [
        "'''\n",
        "# TURN SERIES WITH VALUE COUNTS INTO NEW, USABLE DATAFRAME\n",
        "\n",
        "series = df.value_counts().to_frame()\n",
        "# note that a is a pandas series, which is what value_counts() creates, \n",
        "# while to_frame() turns it into a dataframe with shape of (n, 1)\n",
        "\n",
        "print(series)\n",
        "\n",
        "print(series.shape) # (263, 1)\n",
        "\n",
        "print()\n",
        "\n",
        "counts_only = tf.constant(series)\n",
        "\n",
        "print(counts_only[:3]) # see first 3\n",
        "\n",
        "print()\n",
        "\n",
        "counts_only = np.ravel(counts_only) # convert counts_only shape to 1D array (n, )\n",
        "\n",
        "print(counts_only, counts_only.shape)\n",
        "\n",
        "print()\n",
        "\n",
        "print(series.index[0], series.index[1], series.index[2]) # we get tuples of each row!\n",
        "\n",
        "print()\n",
        "\n",
        "temp_list = []\n",
        "\n",
        "for i in range(len(series)):\n",
        "  each_list = list(series.index[i]) # convert each tuple into a list\n",
        "  each_count = counts_only[i] # get each count\n",
        "  each_list.append(each_count) # add each_count to each_list list\n",
        "  temp_list.append(each_list) # add each_list to temp_list\n",
        "\n",
        "stacked_arr = np.row_stack( ( temp_list ) )\n",
        "\n",
        "print(stacked_arr, stacked_arr.shape)\n",
        "'''"
      ],
      "execution_count": null,
      "outputs": [
        {
          "output_type": "execute_result",
          "data": {
            "application/vnd.google.colaboratory.intrinsic+json": {
              "type": "string"
            },
            "text/plain": [
              "'\\n# TURN SERIES WITH VALUE COUNTS INTO NEW, USABLE DATAFRAME\\n\\nseries = df.value_counts().to_frame()\\n# note that a is a pandas series, which is what value_counts() creates, \\n# while to_frame() turns it into a dataframe with shape of (n, 1)\\n\\nprint(series)\\n\\nprint(series.shape) # (263, 1)\\n\\nprint()\\n\\ncounts_only = tf.constant(series)\\n\\nprint(counts_only[:3]) # see first 3\\n\\nprint()\\n\\ncounts_only = np.ravel(counts_only) # convert counts_only shape to 1D array (n, )\\n\\nprint(counts_only, counts_only.shape)\\n\\nprint()\\n\\nprint(series.index[0], series.index[1], series.index[2]) # we get tuples of each row!\\n\\nprint()\\n\\ntemp_list = []\\n\\nfor i in range(len(series)):\\n  each_list = list(series.index[i]) # convert each tuple into a list\\n  each_count = counts_only[i] # get each count\\n  each_list.append(each_count) # add each_count to each_list list\\n  temp_list.append(each_list) # add each_list to temp_list\\n\\nstacked_arr = np.row_stack( ( temp_list ) )\\n\\nprint(stacked_arr, stacked_arr.shape)\\n'"
            ]
          },
          "metadata": {},
          "execution_count": 1435
        }
      ]
    },
    {
      "cell_type": "code",
      "metadata": {
        "id": "jNRwly68E5Oi",
        "colab": {
          "base_uri": "https://localhost:8080/",
          "height": 53
        },
        "outputId": "6fb9bb98-c697-42ca-935d-153b63c0735e"
      },
      "source": [
        "'''# we onehotencode these rows with pandas get_dummies(): breast, breast-quad\n",
        "\n",
        "df = pd.get_dummies(data=df, columns=['breast', 'breast-quad'])\n",
        "\n",
        "df'''"
      ],
      "execution_count": null,
      "outputs": [
        {
          "output_type": "execute_result",
          "data": {
            "application/vnd.google.colaboratory.intrinsic+json": {
              "type": "string"
            },
            "text/plain": [
              "\"# we onehotencode these rows with pandas get_dummies(): breast, breast-quad\\n\\ndf = pd.get_dummies(data=df, columns=['breast', 'breast-quad'])\\n\\ndf\""
            ]
          },
          "metadata": {},
          "execution_count": 1436
        }
      ]
    },
    {
      "cell_type": "markdown",
      "metadata": {
        "id": "N5bZZATzCfLp"
      },
      "source": [
        "## FUNCTION TO REMOVE ROWS IN COLUMNS THAT MEET CRITERIUM"
      ]
    },
    {
      "cell_type": "code",
      "metadata": {
        "id": "lhx_h8AZ2XTA",
        "colab": {
          "base_uri": "https://localhost:8080/",
          "height": 192
        },
        "outputId": "aeea0413-8f94-4fce-b870-1806ba429a72"
      },
      "source": [
        "def remove_rows(dataframe_name, col, col_var_to_reduce, target_num_to_remain=0):\n",
        "  '''\n",
        "  col and col_var_to_reduce are strings\n",
        "  '''\n",
        "  print(col, col_var_to_reduce)\n",
        "\n",
        "  get_idxs_of_col_var_to_reduce = dataframe_name.index[ dataframe_name[col]==col_var_to_reduce ].tolist()\n",
        "\n",
        "  get_idxs_of_col_var_to_reduce = np.asarray(get_idxs_of_col_var_to_reduce) # convert list to np array \n",
        "\n",
        "  print(len(get_idxs_of_col_var_to_reduce)) \n",
        "\n",
        "  # get a random sample of unique idxs from get_idxs_of_col_var_to_reduce array\n",
        "\n",
        "  np.random.seed(42) # set random seed for reproducible results\n",
        "\n",
        "  idxs_to_drop_from_df = np.random.choice(get_idxs_of_col_var_to_reduce, size=len(get_idxs_of_col_var_to_reduce)-target_num_to_remain, replace=False)\n",
        "\n",
        "  print(idxs_to_drop_from_df)\n",
        "\n",
        "  # drop these idxs from df\n",
        "\n",
        "  dataframe_name = dataframe_name.drop(idxs_to_drop_from_df, axis=0, inplace=True) # inplace=True mutates ori df\n",
        "\n",
        "\n",
        "###\n",
        "\n",
        "# run function...\n",
        "\n",
        "#remove_rows(dataframe_name=df, col='breast-quad', col_var_to_reduce='left_low', target_num_to_remain=20)\n",
        "\n",
        "\n",
        "\n",
        "\n",
        "\n",
        "\n",
        "'''\n",
        "# SOURCE CODE FOR FUNCTION\n",
        "\n",
        "left_low_idx = df.index[ df['breast-quad']=='left_low'].tolist()\n",
        "\n",
        "left_low_idx = np.asarray(left_low_idx) # convert list to np array \n",
        "\n",
        "print(len(left_low_idx)) # 106, same as val count output\n",
        "\n",
        "print(left_low_idx)\n",
        "\n",
        "# let's reduce all target vars count to N\n",
        "# so let's pick N idx numbers to delete from the dataframe, based on the idx nums of left_low rows\n",
        "\n",
        "target_num_to_remain = 20\n",
        "\n",
        "np.random.seed(42)\n",
        "\n",
        "\n",
        "# get a random sample of unique idxs only from left_low_idx\n",
        "\n",
        "idxs_to_drop_from_df = np.random.choice(left_low_idx, size=len(left_low_idx)-target_num_to_remain, replace=False)\n",
        "\n",
        "print(idxs_to_drop_from_df, len(idxs_to_drop_from_df))\n",
        "\n",
        "\n",
        "# drop these idxs from df\n",
        "\n",
        "df = df.drop(idxs_to_drop_from_df, axis=0, inplace=True)\n",
        "\n",
        "print(df)\n",
        "'''\n",
        "\n",
        "\n",
        "###\n",
        "\n",
        "\n",
        "\n",
        "\n"
      ],
      "execution_count": null,
      "outputs": [
        {
          "output_type": "execute_result",
          "data": {
            "application/vnd.google.colaboratory.intrinsic+json": {
              "type": "string"
            },
            "text/plain": [
              "\"\\n# SOURCE CODE FOR FUNCTION\\n\\nleft_low_idx = df.index[ df['breast-quad']=='left_low'].tolist()\\n\\nleft_low_idx = np.asarray(left_low_idx) # convert list to np array \\n\\nprint(len(left_low_idx)) # 106, same as val count output\\n\\nprint(left_low_idx)\\n\\n# let's reduce all target vars count to N\\n# so let's pick N idx numbers to delete from the dataframe, based on the idx nums of left_low rows\\n\\ntarget_num_to_remain = 20\\n\\nnp.random.seed(42)\\n\\n\\n# get a random sample of unique idxs only from left_low_idx\\n\\nidxs_to_drop_from_df = np.random.choice(left_low_idx, size=len(left_low_idx)-target_num_to_remain, replace=False)\\n\\nprint(idxs_to_drop_from_df, len(idxs_to_drop_from_df))\\n\\n\\n# drop these idxs from df\\n\\ndf = df.drop(idxs_to_drop_from_df, axis=0, inplace=True)\\n\\nprint(df)\\n\""
            ]
          },
          "metadata": {},
          "execution_count": 1428
        }
      ]
    }
  ]
}